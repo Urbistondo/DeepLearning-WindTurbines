{
 "cells": [
  {
   "cell_type": "code",
   "execution_count": 3,
   "metadata": {
    "collapsed": true
   },
   "outputs": [],
   "source": [
    "import numpy as np\n",
    "import pandas as pd\n",
    "import matplotlib.pyplot as plt"
   ]
  },
  {
   "cell_type": "code",
   "execution_count": 5,
   "metadata": {
    "collapsed": false
   },
   "outputs": [
    {
     "name": "stdout",
     "output_type": "stream",
     "text": [
      "     unixtime  STREQ  WTURNativeStatus  WROTPitchAngleAvgFreq  \\\n",
      "0  1425099000    NaN             500.0                    NaN   \n",
      "1  1425099600    NaN             100.0                    NaN   \n",
      "2  1425100200    NaN             100.0                    NaN   \n",
      "3  1425100800    NaN             100.0                    NaN   \n",
      "4  1425101400    NaN             100.0                    NaN   \n",
      "\n",
      "   WHDRGroupOilPressFreq  WROTPitchAngleAvgTravNeg  WGENStatorCur  WGENSpeed  \\\n",
      "0                    NaN                       NaN            NaN        NaN   \n",
      "1                    NaN                       NaN            NaN        NaN   \n",
      "2                    NaN                       NaN            NaN        NaN   \n",
      "3                    NaN                       NaN            NaN        NaN   \n",
      "4                    NaN                       NaN            NaN        NaN   \n",
      "\n",
      "   WROTSpeed  WNACWindSpeed        ...          WHDRGroupOilPressTravNeg  \\\n",
      "0        NaN            NaN        ...                               NaN   \n",
      "1        NaN            NaN        ...                               NaN   \n",
      "2        NaN            NaN        ...                               NaN   \n",
      "3        NaN            NaN        ...                               NaN   \n",
      "4        NaN            NaN        ...                               NaN   \n",
      "\n",
      "   WHDRGroupOilPressTravPos  WTURPowerMed10min  WGENSpeedStd10min  ESTR  \\\n",
      "0                       NaN                NaN                NaN   NaN   \n",
      "1                       NaN                NaN                NaN   NaN   \n",
      "2                       NaN                NaN                NaN   NaN   \n",
      "3                       NaN                NaN                NaN   NaN   \n",
      "4                       NaN                NaN                NaN   NaN   \n",
      "\n",
      "   WTURPowerStd10min  WROTPitchAngleAvgMax10min  WNACWindDirectionCosMin10min  \\\n",
      "0                NaN                        NaN                           NaN   \n",
      "1                NaN                        NaN                           NaN   \n",
      "2                NaN                        NaN                           NaN   \n",
      "3                NaN                        NaN                           NaN   \n",
      "4                NaN                        NaN                           NaN   \n",
      "\n",
      "   WROTSpeedMin10min  WTURPowerMin10min  \n",
      "0                NaN                NaN  \n",
      "1                NaN                NaN  \n",
      "2                NaN                NaN  \n",
      "3                NaN                NaN  \n",
      "4                NaN                NaN  \n",
      "\n",
      "[5 rows x 61 columns]\n"
     ]
    }
   ],
   "source": [
    "data = pd.read_csv('../input/raw/27037.csv')\n",
    "print(data.head())"
   ]
  },
  {
   "cell_type": "code",
   "execution_count": 6,
   "metadata": {
    "collapsed": false
   },
   "outputs": [
    {
     "ename": "MemoryError",
     "evalue": "",
     "output_type": "error",
     "traceback": [
      "\u001b[1;31m---------------------------------------------------------------------------\u001b[0m",
      "\u001b[1;31mMemoryError\u001b[0m                               Traceback (most recent call last)",
      "\u001b[1;32m<ipython-input-6-a8a7b0c2cbca>\u001b[0m in \u001b[0;36m<module>\u001b[1;34m()\u001b[0m\n\u001b[1;32m----> 1\u001b[1;33m \u001b[0mnp\u001b[0m\u001b[1;33m.\u001b[0m\u001b[0mcorrcoef\u001b[0m\u001b[1;33m(\u001b[0m\u001b[0mdata\u001b[0m\u001b[1;33m)\u001b[0m\u001b[1;33m\u001b[0m\u001b[0m\n\u001b[0m",
      "\u001b[1;32m~\\AppData\\Local\\Continuum\\Anaconda2\\envs\\kerasenv\\lib\\site-packages\\numpy\\lib\\function_base.py\u001b[0m in \u001b[0;36mcorrcoef\u001b[1;34m(x, y, rowvar, bias, ddof)\u001b[0m\n\u001b[0;32m   2993\u001b[0m         warnings.warn('bias and ddof have no effect and are deprecated',\n\u001b[0;32m   2994\u001b[0m                       DeprecationWarning, stacklevel=2)\n\u001b[1;32m-> 2995\u001b[1;33m     \u001b[0mc\u001b[0m \u001b[1;33m=\u001b[0m \u001b[0mcov\u001b[0m\u001b[1;33m(\u001b[0m\u001b[0mx\u001b[0m\u001b[1;33m,\u001b[0m \u001b[0my\u001b[0m\u001b[1;33m,\u001b[0m \u001b[0mrowvar\u001b[0m\u001b[1;33m)\u001b[0m\u001b[1;33m\u001b[0m\u001b[0m\n\u001b[0m\u001b[0;32m   2996\u001b[0m     \u001b[1;32mtry\u001b[0m\u001b[1;33m:\u001b[0m\u001b[1;33m\u001b[0m\u001b[0m\n\u001b[0;32m   2997\u001b[0m         \u001b[0md\u001b[0m \u001b[1;33m=\u001b[0m \u001b[0mdiag\u001b[0m\u001b[1;33m(\u001b[0m\u001b[0mc\u001b[0m\u001b[1;33m)\u001b[0m\u001b[1;33m\u001b[0m\u001b[0m\n",
      "\u001b[1;32m~\\AppData\\Local\\Continuum\\Anaconda2\\envs\\kerasenv\\lib\\site-packages\\numpy\\lib\\function_base.py\u001b[0m in \u001b[0;36mcov\u001b[1;34m(m, y, rowvar, bias, ddof, fweights, aweights)\u001b[0m\n\u001b[0;32m   2926\u001b[0m     \u001b[1;32melse\u001b[0m\u001b[1;33m:\u001b[0m\u001b[1;33m\u001b[0m\u001b[0m\n\u001b[0;32m   2927\u001b[0m         \u001b[0mX_T\u001b[0m \u001b[1;33m=\u001b[0m \u001b[1;33m(\u001b[0m\u001b[0mX\u001b[0m\u001b[1;33m*\u001b[0m\u001b[0mw\u001b[0m\u001b[1;33m)\u001b[0m\u001b[1;33m.\u001b[0m\u001b[0mT\u001b[0m\u001b[1;33m\u001b[0m\u001b[0m\n\u001b[1;32m-> 2928\u001b[1;33m     \u001b[0mc\u001b[0m \u001b[1;33m=\u001b[0m \u001b[0mdot\u001b[0m\u001b[1;33m(\u001b[0m\u001b[0mX\u001b[0m\u001b[1;33m,\u001b[0m \u001b[0mX_T\u001b[0m\u001b[1;33m.\u001b[0m\u001b[0mconj\u001b[0m\u001b[1;33m(\u001b[0m\u001b[1;33m)\u001b[0m\u001b[1;33m)\u001b[0m\u001b[1;33m\u001b[0m\u001b[0m\n\u001b[0m\u001b[0;32m   2929\u001b[0m     \u001b[0mc\u001b[0m \u001b[1;33m*=\u001b[0m \u001b[1;36m1.\u001b[0m \u001b[1;33m/\u001b[0m \u001b[0mnp\u001b[0m\u001b[1;33m.\u001b[0m\u001b[0mfloat64\u001b[0m\u001b[1;33m(\u001b[0m\u001b[0mfact\u001b[0m\u001b[1;33m)\u001b[0m\u001b[1;33m\u001b[0m\u001b[0m\n\u001b[0;32m   2930\u001b[0m     \u001b[1;32mreturn\u001b[0m \u001b[0mc\u001b[0m\u001b[1;33m.\u001b[0m\u001b[0msqueeze\u001b[0m\u001b[1;33m(\u001b[0m\u001b[1;33m)\u001b[0m\u001b[1;33m\u001b[0m\u001b[0m\n",
      "\u001b[1;31mMemoryError\u001b[0m: "
     ]
    }
   ],
   "source": [
    "np.corrcoef(data)"
   ]
  },
  {
   "cell_type": "code",
   "execution_count": null,
   "metadata": {
    "collapsed": true
   },
   "outputs": [],
   "source": []
  }
 ],
 "metadata": {
  "anaconda-cloud": {},
  "kernelspec": {
   "display_name": "Python [conda env:kerasenv]",
   "language": "python",
   "name": "conda-env-kerasenv-py"
  },
  "language_info": {
   "codemirror_mode": {
    "name": "ipython",
    "version": 3
   },
   "file_extension": ".py",
   "mimetype": "text/x-python",
   "name": "python",
   "nbconvert_exporter": "python",
   "pygments_lexer": "ipython3",
   "version": "3.5.3"
  }
 },
 "nbformat": 4,
 "nbformat_minor": 1
}
